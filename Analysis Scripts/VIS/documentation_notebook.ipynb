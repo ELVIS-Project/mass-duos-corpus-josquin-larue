{
 "cells": [
  {
   "cell_type": "markdown",
   "metadata": {},
   "source": [
    "# Duos Corpora"
   ]
  },
  {
   "cell_type": "markdown",
   "metadata": {},
   "source": [
    "Néstor Nápoles, February 8, 2018"
   ]
  },
  {
   "cell_type": "markdown",
   "metadata": {},
   "source": [
    "## Pre-steps"
   ]
  },
  {
   "cell_type": "markdown",
   "metadata": {},
   "source": [
    "### Initial sanity check"
   ]
  },
  {
   "cell_type": "markdown",
   "metadata": {},
   "source": [
    "I am starting with a basic sanity check for importing the files with vis-framework. Here is a list of all the files that are considered for this analysis."
   ]
  },
  {
   "cell_type": "markdown",
   "metadata": {},
   "source": [
    "1. Josquin (not secure) Masses/Credo Vilayge I/Josquin Credo Vilayge I Et in spiritum.xml\n",
    "2. Josquin (not secure) Masses/Missa Ad fugam/Josquin Missa Ad fugam Benedictus (version 2).xml\n",
    "3. Josquin (not secure) Masses/Missa Ad fugam/Josquin Missa Ad fugam Pleni (version 2).xml\n",
    "4. Josquin (not secure) Masses/Missa Ad fugam/Josquin Missa Ad fugam Qui venit (version 2).xml\n",
    "5. Josquin (not secure) Masses/Missa Allez Regretz I/Josquin Missa Allez regretz I Pleni.xml\n",
    "6. Josquin (not secure) Masses/Missa Da pacem/Josquin Missa Da Pacem Crucifixus.xml\n",
    "7. Josquin (not secure) Masses/Missa Da pacem/Josquin Missa Da Pacem Et resurrexit.xml\n",
    "8. Josquin (not secure) Masses/Missa Di dadi/Josquin Missa Di dadi Agnus II.xml\n",
    "9. Josquin (not secure) Masses/Missa Di dadi/Josquin Missa Di dadi Benedictus.xml\n",
    "10. Josquin (not secure) Masses/Missa Di dadi/Josquin Missa Di dadi Domine fili.xml\n",
    "11. Josquin (not secure) Masses/Missa L_ami Baudichon/Josquin Missa L_ami Baudichon Benedictus.xml\n",
    "12. Josquin (not secure) Masses/Missa L_ami Baudichon/Josquin Missa L_ami Baudichon Crucifixus.xml\n",
    "13. Josquin (not secure) Masses/Missa L_ami Baudichon/Josquin Missa L_ami Baudichon Et incarnatus est.xml\n",
    "14. Josquin (not secure) Masses/Missa L_ami Baudichon/Josquin Missa L_ami Baudichon Gloria - Qui tollis.xml\n",
    "15. Josquin (not secure) Masses/Missa L_ami Baudichon/Josquin Missa L_ami Baudichon In nomine.xml\n",
    "16. Josquin (not secure) Masses/Missa L_ami Baudichon/Josquin Missa L_ami Baudichon Pleni.xml\n",
    "17. Josquin (not secure) Masses/Missa L_ami Baudichon/Josquin Missa L_ami Baudichon Qui venit.xml\n",
    "18. Josquin (not secure) Masses/Missa L_homme arme quarti toni/Josquin Missa L_homme arme quarti toni Domine Deus, Agnus Dei.xml\n",
    "19. Josquin (not secure) Masses/Missa Mater patris/Josquin Missa Mater patris Agnus II.xml\n",
    "20. Josquin (not secure) Masses/Missa Mater patris/Josquin Missa Mater patris Benedictus.xml\n",
    "21. Josquin (not secure) Masses/Missa Mater patris/Josquin Missa Mater patris Pleni.xml\n",
    "22. Josquin (not secure) Masses/Missa Mi mi/Josquin Missa Mi mi Benedictus.xml\n",
    "23. Josquin (not secure) Masses/Missa Mi mi/Josquin Missa Mi mi In nomine.xml\n",
    "24. Josquin (not secure) Masses/Missa Mi mi/Josquin Missa Mi mi Qui venit.xml\n",
    "25. Josquin (not secure) Masses/Missa Missus est Gabriel Angelus/Josquin Missa est Gabriel Angelus Pleni.xml\n",
    "26. Josquin (not secure) Masses/Missa Missus est Gabriel Angelus/Josquin Missa Missus est Gabriel Angelus Agnus II.xml\n",
    "27. Josquin (not secure) Masses/Missa Quem dicunt homines/Josquin Missa Quem dicunt homines Agnus II.xml\n",
    "28. Josquin (not secure) Masses/Missa Sub tuum presidium/Josquin Missa Sub tuum presidium Benedictus.xml\n",
    "29. Josquin (not secure) Masses/Sanctus De passione/Josquin Sanctus De passione Benedictus.xml\n",
    "30. Josquin (not secure) Masses/Sanctus De passione/Josquin Sanctus De passione Pleni.xml\n",
    "31. Josquin Masses/Credo de tous biens playne/Josquin Credo De tous biens playne et in spiritum.xml\n",
    "32. Josquin Masses/Missa Ave Maris Stella/Josquin_Missa_Ave_Maris_Stella_Agnus_Dei_II.xml\n",
    "33. Josquin Masses/Missa Ave Maris Stella/Josquin_Missa_Ave_Maris_Stella_Benedictus.xml\n",
    "34. Josquin Masses/Missa Ave Maris Stella/Josquin_Missa_Ave_Maris_Stella_Qui_Venit.xml\n",
    "35. Josquin Masses/Missa de beata virgine/Josquin Missa de Beata virgine Agnus Dei II.xml\n",
    "36. Josquin Masses/Missa Gaudeamus/Josquin Missa Gaudeamus Agnus Dei II.xml\n",
    "37. Josquin Masses/Missa Gaudeamus/Josquin Missa Gaudeamus In Nomine.xml\n",
    "38. Josquin Masses/Missa Gaudeamus/Josquin_Missa_Gaudeamus_Benedictus.xml\n",
    "39. Josquin Masses/Missa Gaudeamus/Josquin_Missa_Gaudeamus_Qui_Venit.xml\n",
    "40. Josquin Masses/Missa Hercules dux ferrarie/Josquin Missa Hercules dux Ferrariae Benedictus.xml\n",
    "41. Josquin Masses/Missa Hercules dux ferrarie/Josquin Missa Hercules dux Ferrariae In nomine.xml\n",
    "42. Josquin Masses/Missa Hercules dux ferrarie/Josquin Missa Hercules dux Ferrariae Pleni.xml\n",
    "43. Josquin Masses/Missa Hercules dux ferrarie/Josquin Missa Hercules dux Ferrariae Qui venit.xml\n",
    "44. Josquin Masses/Missa l_Homme arme sexti toni/Josquin Missa l_Homme Arme Sexti Toni Benedictus.xml\n",
    "45. Josquin Masses/Missa l_Homme arme sexti toni/Josquin Missa l_Homme Arme Sexti Toni Gloria Tua.xml\n",
    "46. Josquin Masses/Missa l_Homme arme sexti toni/Josquin Missa l_Homme Arme Sexti Toni In nomine.xml\n",
    "47. Josquin Masses/Missa l_Homme arme sexti toni/Josquin Missa l_Homme Arme Sexti Toni Pleni.xml\n",
    "48. Josquin Masses/Missa l_Homme arme sexti toni/Josquin Missa l_Homme Arme Sexti Toni Qui Venit.xml\n",
    "49. Josquin Masses/Missa l_Homme arme super voces musicales/Josquin Missa L_homme armé super voces musicales Benedictus.xml\n",
    "50. Josquin Masses/Missa l_Homme arme super voces musicales/Josquin Missa L_homme armé super voces musicales In nomine.xml\n",
    "51. Josquin Masses/Missa l_Homme arme super voces musicales/Josquin Missa L_homme armé super voces musicales Qui venit.xml\n",
    "52. Josquin Masses/Missa La sol fa re mi/Josquin Missa La sol fa re mi Agnus II.xml\n",
    "53. Josquin Masses/Missa Malheur me bat/Josquin Missa Malheur me bat Benedictus.xml\n",
    "54. Josquin Masses/Missa Malheur me bat/Josquin Missa Malheur me bat In nomine.xml\n",
    "55. Josquin Masses/Missa Malheur me bat/Josquin Missa Malheur me bat Qui venit.xml\n",
    "56. Josquin Masses/Missa Pange Lingua/Josquin Missa Pange Lingua Agnus Dei II.xml\n",
    "57. Josquin Masses/Missa Pange Lingua/Josquin Missa Pange Lingua Benedictus.xml\n",
    "58. Josquin Masses/Missa Pange Lingua/Josquin Missa Pange Lingua Pleni.xml\n",
    "59. Josquin Masses/Missa Sine Nomine/Josquin Missa Sine Nomine Agnus Dei II.xml\n",
    "60. Josquin Masses/Missa Sine Nomine/Josquin Missa Sine Nomine Benedictus.xml\n",
    "61. Josquin Masses/Missa Sine Nomine/Josquin Missa Sine Nomine In nomine.xml\n",
    "62. Josquin Masses/Missa Sine Nomine/Josquin Missa Sine Nomine Pleni.xml\n",
    "63. Josquin Masses/Missa Sine Nomine/Josquin Missa Sine Nomine Qui venit.xml\n",
    "64. La Rue Masses/ Missa Conceptio Tua/La Rue Missa Conceptio Tua - In nomine.xml\n",
    "65. La Rue Masses/ Missa Conceptio Tua/La Rue Missa Conceptio Tua -Benedictus.xml\n",
    "66. La Rue Masses/Missa Almana/La Rue Missa Almana - Benedictus.xml\n",
    "67. La Rue Masses/Missa Assumpta est Maria/La Rue Missa assumpta est Maria - Gloria tua.xml\n",
    "68. La Rue Masses/Missa Assumpta est Maria/La Rue Missa assumpta est Maria - Pleni.xml\n",
    "69. La Rue Masses/Missa Ave Sanctissima Maria/La Rue Missa Ave Sanctissima Maria - Crucifixus.xml\n",
    "70. La Rue Masses/Missa Ave Sanctissima Maria/La Rue Missa Ave Sanctissima Maria - Et resurrexit.xml\n",
    "71. La Rue Masses/Missa Ave Sanctissima Maria/La Rue Missa Ave Sanctissima Maria - Gloria - Qui tollis.xml\n",
    "72. La Rue Masses/Missa Ave Sanctissima Maria/La Rue Missa Ave Sanctissima Maria - Pleni.xml\n",
    "73. La Rue Masses/Missa De beata virgine/La Rue Missa De beata virgine Agnus II.xml\n",
    "74. La Rue Masses/Missa de Feria/La Rue Missa de Feria Agnus II.xml\n",
    "75. La Rue Masses/Missa de Feria/La Rue Missa de Feria Pleni.xml\n",
    "76. La Rue Masses/Missa de Sancta Anna/Missa de Sancta Anna - Benedictus (original note values restored).xml\n",
    "77. La Rue Masses/Missa de Sancta Anna/Missa de Sancta Anna - In nomine (original note values restored).xml\n",
    "78. La Rue Masses/Missa de Sancto Antonio/La Rue Missa De sancto Antonio In nomine.xml\n",
    "79. La Rue Masses/Missa de Sancto Job/La Rue Missa de Sancto Job Benedictus.xml\n",
    "80. La Rue Masses/Missa de Sancto Job/La Rue Missa de Sancto Job Pleni.xml\n",
    "81. La Rue Masses/Missa de septem doloribus/La Rue Missa de septem doloribus In nomine.xml\n",
    "82. La Rue Masses/Missa de septem doloribus/La Rue Missa de septem doloribus Pleni.xml\n",
    "83. La Rue Masses/Missa de virginibus/La Rue Missa De virginibus Benedictus.xml\n",
    "84. La Rue Masses/Missa de virginibus/La Rue Missa De virginibus In nomine.xml\n",
    "85. La Rue Masses/Missa de virginibus/La Rue Missa De virginibus Pleni.xml\n",
    "86. La Rue Masses/Missa Incessament/La Rue Missa Incessament Benedictus.xml\n",
    "87. La Rue Masses/Missa Incessament/La Rue Missa Incessament In nomine.xml\n",
    "88. La Rue Masses/Missa Incessament/La Rue Missa Incessament Pleni.xml\n",
    "89. La Rue Masses/Missa Inviolata/La Rue Missa Inviolata Pleni.xml\n",
    "90. La Rue Masses/Missa Ista est speciosa/La Rue Missa Ista est speciosa Pleni.xml\n",
    "91. La Rue Masses/Missa Iste confessor domini/Missa Iste confessor Domini - Agnus II (original note values restored).xml\n",
    "92. La Rue Masses/Missa Iste confessor domini/Missa Iste confessor Domini Benedictus (original note values restored).xml\n",
    "93. La Rue Masses/Missa L_homme arme I/Missa L_homme armé I - Pleni (original note values restored).xml\n",
    "94. La Rue Masses/Missa L_homme arme II/Missa L_homme armé II - Benedictus (original note values restored).xml\n",
    "95. La Rue Masses/Missa L_homme arme II/Missa L_homme armé II - Crucifixus (original note values restored).xml\n",
    "96. La Rue Masses/Missa L_homme arme II/Missa L_homme armé II - Pleni (original note values restored).xml\n",
    "97. La Rue Masses/Missa nunca fue pena mayor/La Rue Missa Nunca fue pena mayor Benedictus.xml\n",
    "98. La Rue Masses/Missa O gloriosa domina/La Rue Missa O gloriosa domina Agnus II.xml\n",
    "99. La Rue Masses/Missa O gloriosa domina/La Rue Missa O gloriosa domina Benedictus.xml\n",
    "100. La Rue Masses/Missa O gloriosa domina/La Rue Missa O gloriosa domina In nomine.xml\n",
    "101. La Rue Masses/Missa O salutaris hostia/La Rue Missa O salutaris hostia Benedictus.xml\n",
    "102. La Rue Masses/Missa O salutaris hostia/La Rue Missa O salutaris hostia Pleni.xml\n",
    "103. La Rue Masses/Missa Pascale/La Rue Missa Pascale Benedictus (original note values restored).xml\n",
    "104. La Rue Masses/Missa Pascale/La Rue Missa Pascale In nomine (original note values restored).xml\n",
    "105. La Rue Masses/Missa Pro fidelibus defunctis/La Rue Missa Pro fidelibus defunctis Sicut cervus (original note values restored).xml\n",
    "106. La Rue Masses/Missa Pro fidelibus defunctis/La Rue Missa Pro fidelibus defunctis Sitivit anima mea (original note values restored).xml\n",
    "107. La Rue Masses/Missa Sancta Dei genitrix/La Rue Missa Sancta Dei genitrix Benedictus (original note values restored).xml\n",
    "108. La Rue Masses/Missa Sine Nomine I/La Rue Missa Sine nomine I Benedictus (original note values restored).xml\n",
    "109. La Rue Masses/Missa Sine Nomine I/La Rue Missa Sine nomine I In nomine (original note values restored).xml\n",
    "110. La Rue Masses/Missa Sub tuum presidium/La Rue Missa Sub tuum presidium Benedictus (original note values restored).xml\n",
    "111. La Rue Masses/Missa Tandernaken/La Rue Missa Tandernaken Agnus II (original note values restored).xml\n",
    "112. La Rue Masses/Missa Tandernaken/La Rue Missa Tandernaken Benedictus (original note values restored).xml\n",
    "113. La Rue Masses/Missa Tous les regretz/La Rue Missa Tous les regretz Agnus II (original note values restored).xml\n",
    "114. Martini/Missa Cucu/Martini Missa Cucu Agnus II.xml\n",
    "115. Martini/Missa Cucu/Martini Missa Cucu Domine Deus.xml\n",
    "116. Martini/Missa Cucu/Martini Missa Cucu Pleni.xml\n",
    "117. Martini/Missa Dio te salvi Gotterello/Martini Missa Dio te salvi Gotterello Benedictus.xml\n",
    "118. Martini/Missa Io ne tengo quanto a te/Martini Missa Io ne tengo quanto a te - Agnus II (original note values restored).xml\n",
    "119. Martini/Missa Io ne tengo quanto a te/Martini Missa Io ne tengo quanto a te - Benedictus (original note values restored).xml\n",
    "120. Martini/Missa Nos Amis/Martini Missa Nos Amis - Agnus II (original note values restored).xml\n",
    "121. Martini/Missa Nos Amis/Martini Missa Nos Amis - Pleni (original note values restored).xml\n",
    "122. Martini/Missa Nos Amis/Martini Missa Nos amis Benedictus (original note values restored).xml\n",
    "123. Martini/Missa Or sus, or sus/Martini - Missa Or sus, or sus Benedictus (original note values restored).xml\n",
    "124. Ockeghem Masses/Missa Cuiusvis toni/Missa Cuiusvis toni (on D) -Benedictus.xml\n",
    "125. Ockeghem Masses/Missa De plus en plus/Ockeghem Missa De plus en plus Benedictus.xml\n",
    "126. Ockeghem Masses/Missa De plus en plus/Ockeghem Missa De plus en plus qui venit.xml\n",
    "127. Ockeghem Masses/Missa Ecce ancilla Domini/Ockeghem Missa Ecce ancilla domini Agnus II.xml\n",
    "128. Ockeghem Masses/Missa Ecce ancilla Domini/Ockeghem Missa Ecce ancilla domini Benedictus.xml\n",
    "129. Ockeghem Masses/Missa Ma maistresse/Missa Ma maistresse Gloria.xml\n",
    "130. Ockeghem Masses/Missa Mi mi/Ockeghem Missa Mi mi Benedictus.xml\n",
    "131. Ockeghem Masses/Missa Mi mi/Ockeghem Missa Mi mi Credo.xml\n",
    "132. Ockeghem Masses/Missa Prolationum/Ockeghem Missa Prolationum Agnus II.xml\n",
    "133. Ockeghem Masses/Missa Prolationum/Ockeghem Missa Prolationum Pleni.xml\n",
    "134. Ockeghem Masses/Requiem/Ockeghem Requiem Christe I-III.xml\n",
    "135. Ockeghem Masses/Requiem/Ockeghem Requiem Kyrie II.xml\n",
    "136. Ockeghem Masses/Requiem/Ockeghem Requiem Kyrie V.xml\n",
    "137. Ockeghem Masses/Requiem/Ockeghem Requiem Offertory Hostias.xml\n",
    "138. Ockeghem Masses/Requiem/Ockeghem Requiem Sitivit anima mea.xml\n",
    "139. Ockeghem Masses/Requiem/Ockeghem Requiem Tract Sicut Cervus.xml"
   ]
  },
  {
   "cell_type": "markdown",
   "metadata": {},
   "source": [
    "All the MusicXML files were able to be imported via vis-framework (and indirectly then, through Music21)"
   ]
  },
  {
   "cell_type": "markdown",
   "metadata": {},
   "source": [
    "```python\n",
    "from vis.models.indexed_piece import Importer\n",
    "\n",
    "with open('all_scores.txt') as f:\n",
    "    pathnames = f.readlines()\n",
    "    pathnames = [f.strip() for f in pathnames]\n",
    "    for filename in pathnames:\n",
    "        print(filename)\n",
    "        s = Importer(filename)\n",
    "        if s:\n",
    "            print('\\t Importing to vis... Ok')\n",
    "        else:\n",
    "            print('\\t Importing to vis... Error')\n",
    "```"
   ]
  },
  {
   "cell_type": "markdown",
   "metadata": {},
   "source": [
    "It is worth mentioning there are, however, some problems that arose when trying to “resynthesize” the score from Music21. These are the file-format and encoding problems that I usually talk about. I will only display one error, which is the one I found accidentally, trying to read the following score:"
   ]
  },
  {
   "cell_type": "markdown",
   "metadata": {},
   "source": [
    "`Ockeghem Masses/Requiem/Ockeghem Requiem Tract Sicut Cervus.xml`"
   ]
  },
  {
   "cell_type": "markdown",
   "metadata": {},
   "source": [
    "Just running a quick “parse” and “show” instruction on Music21"
   ]
  },
  {
   "cell_type": "markdown",
   "metadata": {},
   "source": [
    "```python\n",
    "import music21\n",
    "\n",
    "s = music21.converter.parse('Ockeghem Masses/Requiem/Ockeghem Requiem Tract Sicut Cervus.xml')\n",
    "\n",
    "s.show()\n",
    "```"
   ]
  },
  {
   "cell_type": "markdown",
   "metadata": {},
   "source": [
    "Produces the following error:"
   ]
  },
  {
   "cell_type": "markdown",
   "metadata": {},
   "source": [
    "```python\n",
    "StreamException: element (<music21.note.Note G>) has offset 4.0 within a measure that ends at offset 4.0\n",
    "```"
   ]
  },
  {
   "cell_type": "markdown",
   "metadata": {},
   "source": [
    "Music21 is unable to “resynthesize” the score, there seems to be an inconsistency in the offset of the notes and the measure objects. It is unknown to me whether this error is encoded in the MusicXML file itself or is an error of the parser in Music21 when dealing with this particular file. I am also unaware if similar problems persist in other scores of the Ockeghem corpus. It requires a great amount of time to root-cause and debug such issues that it is out of the scope of the work that I pretend to deliver with the ngrams right now. I just wanted to make a registry about this since I will most likely forget the filename and error in the future, should it is necessary to go through the files for sanity check."
   ]
  },
  {
   "cell_type": "markdown",
   "metadata": {},
   "source": [
    "### Update: February 9, 2017"
   ]
  },
  {
   "cell_type": "markdown",
   "metadata": {},
   "source": [
    "> The root cause of the parsing error is apparently the time signature of the MusicXML scores. Apparently the scores are exported by Sibelius with a Time Signature of '4/4'. However, the duration of the notes does not correspond to the offsets of the measures. This resulted to be a **critical issue**, since the ngram analyses have incorrect offsets, and even worse, mismatching offsets between the horizontal intervals and the vertical intervals"
   ]
  },
  {
   "cell_type": "markdown",
   "metadata": {},
   "source": [
    "It is easy to see this confusion comes from the MusicXML File itself"
   ]
  },
  {
   "cell_type": "markdown",
   "metadata": {},
   "source": [
    "```xml\n",
    "<!--============== Part: P1, Measure: 1 ==============-->\n",
    "  <measure number=\"1\" width=\"180\">\n",
    "   <print new-page=\"yes\">\n",
    "    <system-layout>\n",
    "     <system-margins>\n",
    "      <left-margin>87</left-margin>\n",
    "      <right-margin>0</right-margin>\n",
    "     </system-margins>\n",
    "     <top-system-distance>63</top-system-distance>\n",
    "    </system-layout>\n",
    "   </print>\n",
    "   <attributes>\n",
    "    <divisions>256</divisions>\n",
    "    <key color=\"#000000\">\n",
    "     <fifths>-1</fifths>\n",
    "     <mode>minor</mode>\n",
    "    </key>\n",
    "    <time color=\"#000000\">\n",
    "     <!------------- TIME SIGNATURE ---------------->\n",
    "     <beats>4</beats>\n",
    "     <beat-type>4</beat-type>\n",
    "    </time>\n",
    "    <staves>1</staves>\n",
    "    <clef number=\"1\" color=\"#000000\">\n",
    "     <sign>G</sign>\n",
    "     <line>2</line>\n",
    "     <clef-octave-change>-1</clef-octave-change>\n",
    "    </clef>\n",
    "    <staff-details number=\"1\" print-object=\"yes\" />\n",
    "   </attributes>\n",
    "   <direction>\n",
    "    <direction-type>\n",
    "     <other-direction default-y=\"-20\" print-object=\"no\">Prolation</other-direction>\n",
    "    </direction-type>\n",
    "    <voice>1</voice>\n",
    "    <staff>1</staff>\n",
    "   </direction>\n",
    "   <note color=\"#000000\" default-x=\"88\">\n",
    "    <pitch>\n",
    "     <step>D</step>\n",
    "     <octave>3</octave>\n",
    "    </pitch>\n",
    "    <duration>2048</duration>\n",
    "    <instrument id=\"P1-I1\" />\n",
    "    <voice>1</voice>\n",
    "    <type>breve</type>\n",
    "    <staff>1</staff>\n",
    "   </note>\n",
    "  </measure>\n",
    "```"
   ]
  },
  {
   "cell_type": "markdown",
   "metadata": {},
   "source": [
    "This fragment corresponds to the *first measure of the tenor part* from the MusicXML score:\n",
    "\n",
    "`Josquin (not secure) Masses/Credo Vilayge I/Josquin Credo Vilayge I Et in spiritum.xml`\n",
    "\n",
    "This is the score as it is exported from Sibelius. The time signature is stored in the first measure of each part, music21 reads and appends this information to the music21 objects exactly the same way."
   ]
  },
  {
   "cell_type": "markdown",
   "metadata": {},
   "source": [
    "```python\n",
    "{0.0} <music21.text.TextBox \"Credo Vila...\">\n",
    "{0.0} <music21.text.TextBox \"Josquin de...\">\n",
    "{0.0} <music21.metadata.Metadata object at 0x11c3c1b38>\n",
    "{0.0} <music21.stream.Part Tenor>\n",
    "    {0.0} <music21.instrument.Instrument P1: Tenor: >\n",
    "    {0.0} <music21.stream.Measure 1 offset=0.0>\n",
    "        {0.0} <music21.layout.PageLayout>\n",
    "        {0.0} <music21.layout.SystemLayout>\n",
    "        {0.0} <music21.layout.StaffLayout distance None, staffNumber 1, staffSize None, staffLines None>\n",
    "        {0.0} <music21.clef.Treble8vbClef>\n",
    "        {0.0} <music21.key.KeySignature of 1 flat, mode minor>\n",
    "        {0.0} <music21.meter.TimeSignature 4/4> # <----- TIME SIGNATURE ------\n",
    "        {0.0} <music21.note.Note D>\n",
    "    {8.0} <music21.stream.Measure 2 offset=8.0>\n",
    "        {0.0} <music21.note.Note D>\n",
    "        {4.0} <music21.note.Note G>\n",
    "```"
   ]
  },
  {
   "cell_type": "markdown",
   "metadata": {},
   "source": [
    "### Correcting the time signature inside Music21"
   ]
  },
  {
   "cell_type": "markdown",
   "metadata": {},
   "source": [
    "Modifying the `music21.meter.TimeSignature` object directly in music21 does not correct the problem, the score is still unable to be *re-synthesized* and the offsets are mistaken. The later is due to the fact that vis parses all the music21 information just once after creating the `IndexedPiece`"
   ]
  },
  {
   "cell_type": "markdown",
   "metadata": {},
   "source": [
    "### Correcting the time signature in the MusicXML file"
   ]
  },
  {
   "cell_type": "markdown",
   "metadata": {},
   "source": [
    "Correcting the MusicXML works only for:\n",
    "1. Being able to re-synthesize the score\n",
    "\n",
    "The only caveat is that MuseScore will show a warning message when trying to import the *synthesized* score from music21.\n",
    "\n",
    "The offsets of the ngrams have changed, however, even after correcting the time signature in the MusicXML file, the offsets in the ngrams are still wrong."
   ]
  },
  {
   "cell_type": "markdown",
   "metadata": {},
   "source": [
    "## Initial ngram analysis vs. corrected time signature"
   ]
  },
  {
   "cell_type": "markdown",
   "metadata": {},
   "source": [
    "### Initial ngram analysis"
   ]
  },
  {
   "cell_type": "markdown",
   "metadata": {},
   "source": [
    "```python\n",
    "Indexer                     ngram.NGramIndexer\n",
    "Parts              Tenor,Bassus : Bassus Tenor\n",
    "0.0           [Rest] (Rest _) [Rest] (1 4) [5]\n",
    "4.0                 [Rest] (1 4) [5] (4 1) [8]\n",
    "8.0                    [5] (4 1) [8] (1 _) [5]\n",
    "12.0                   [8] (1 _) [5] (_ 1) [5]\n",
    "16.0                   [5] (_ 1) [5] (_ 1) [5]\n",
    "18.0                   [5] (_ 1) [5] (1 _) [5]\n",
    "20.0                   [5] (1 _) [5] (1 2) [5]\n",
    "22.0                  [5] (1 2) [5] (_ -2) [6]\n",
    "24.0                 [5] (_ -2) [6] (_ -2) [5]\n",
    "28.0                  [6] (_ -2) [5] (2 _) [5]\n",
    "30.0                  [5] (2 _) [5] (_ -2) [4]\n",
    "32.0                 [5] (_ -2) [4] (_ -2) [3]\n",
    "33.0                  [4] (_ -2) [3] (_ 2) [2]\n",
    "34.0                 [3] (_ 2) [2] (-2 -2) [2]\n",
    "35.0              [2] (-2 -2) [2] (_ Rest) [1]\n",
    "36.0         [2] (_ Rest) [1] (-2 Rest) [Rest]\n",
    "40.0     [1] (-2 Rest) [Rest] (-2 Rest) [Rest]\n",
    "44.0        [Rest] (-2 Rest) [Rest] (-2 2) [8]\n",
    "48.0             [Rest] (-2 2) [8] (5 -3) [10]\n",
    "52.0                 [8] (5 -3) [10] (_ 3) [8]\n",
    "60.0                 [10] (_ 3) [8] (2 -2) [6]\n",
    "66.0                 [8] (2 -2) [6] (_ -2) [5]\n",
    "68.0                 [6] (_ -2) [5] (-2 4) [3]\n",
    "72.0                 [5] (-2 4) [3] (_ -2) [6]\n",
    "76.0                [3] (_ -2) [6] (-2 -2) [6]\n",
    "80.0                [6] (-2 -2) [6] (_ -3) [5]\n",
    "84.0                  [6] (_ -3) [5] (_ 2) [3]\n",
    "86.0                  [5] (_ 2) [3] (-2 2) [5]\n",
    "90.0                 [3] (-2 2) [5] (_ -5) [6]\n",
    "92.0              [5] (_ -5) [6] (-3 Rest) [3]\n",
    "...                                        ...\n",
    "156.0         [4] (Rest 1) [4] (Rest _) [Rest]\n",
    "160.0            [4] (Rest _) [Rest] (2 _) [6]\n",
    "164.0               [Rest] (2 _) [6] (_ 1) [6]\n",
    "166.0                 [6] (_ 1) [6] (-2 _) [5]\n",
    "168.0                [6] (-2 _) [5] (-2 _) [6]\n",
    "170.0                [5] (-2 _) [6] (-2 _) [7]\n",
    "174.0              [6] (-2 _) [7] (Rest 1) [8]\n",
    "175.0         [7] (Rest 1) [8] (Rest 1) [Rest]\n",
    "176.0            [8] (Rest 1) [Rest] (4 _) [8]\n",
    "180.0              [Rest] (4 _) [8] (_ -2) [8]\n",
    "182.0                [8] (_ -2) [8] (-2 _) [5]\n",
    "184.0                 [8] (-2 _) [5] (2 _) [6]\n",
    "186.0                  [5] (2 _) [6] (3 2) [4]\n",
    "190.0                 [6] (3 2) [4] (-2 _) [2]\n",
    "192.0                 [4] (-2 _) [2] (3 2) [4]\n",
    "194.0                 [2] (3 2) [4] (-2 _) [2]\n",
    "196.0                [4] (-2 _) [2] (_ -2) [3]\n",
    "198.0                 [2] (_ -2) [3] (2 _) [4]\n",
    "200.0                 [3] (2 _) [4] (-3 _) [3]\n",
    "202.0                 [4] (-3 _) [3] (4 2) [4]\n",
    "204.0                  [3] (4 2) [4] (_ 2) [5]\n",
    "206.0                 [4] (_ 2) [5] (-2 _) [2]\n",
    "208.0                [5] (-2 _) [2] (_ -2) [3]\n",
    "210.0                 [2] (_ -2) [3] (2 _) [4]\n",
    "212.0                [3] (2 _) [4] (-4 -2) [2]\n",
    "214.0              [4] (-4 -2) [2] (-3 -2) [4]\n",
    "216.0                [2] (-3 -2) [4] (2 2) [5]\n",
    "218.0                  [4] (2 2) [5] (2 _) [5]\n",
    "222.0                 [5] (2 _) [5] (-5 _) [4]\n",
    "224.0                 [5] (-5 _) [4] (_ _) [8]\n",
    "\n",
    "[88 rows x 1 columns]\n",
    "```"
   ]
  },
  {
   "cell_type": "markdown",
   "metadata": {},
   "source": [
    "### Corrected time signature"
   ]
  },
  {
   "cell_type": "markdown",
   "metadata": {},
   "source": [
    "```python\n",
    "Indexer                     ngram.NGramIndexer\n",
    "Parts              Tenor,Bassus : Bassus Tenor\n",
    "0.0           [Rest] (Rest 4) [Rest] (1 1) [8]\n",
    "8.0                 [Rest] (1 1) [8] (4 _) [8]\n",
    "12.0                   [8] (4 _) [8] (_ 1) [8]\n",
    "16.0                   [8] (_ 1) [8] (1 1) [5]\n",
    "18.0                   [8] (1 1) [5] (_ 2) [5]\n",
    "20.0                   [5] (_ 2) [5] (1 _) [5]\n",
    "24.0                  [5] (1 _) [5] (1 -2) [6]\n",
    "26.0                 [5] (1 -2) [6] (_ -2) [5]\n",
    "28.0                 [6] (_ -2) [5] (_ -2) [4]\n",
    "30.0                 [5] (_ -2) [4] (_ -2) [3]\n",
    "33.0                  [4] (_ -2) [3] (_ 2) [2]\n",
    "34.0                  [3] (_ 2) [2] (2 -2) [3]\n",
    "35.0              [2] (2 -2) [3] (-2 Rest) [1]\n",
    "36.0         [3] (-2 Rest) [1] (_ Rest) [Rest]\n",
    "40.0      [1] (_ Rest) [Rest] (-2 Rest) [Rest]\n",
    "44.0     [Rest] (-2 Rest) [Rest] (-2 _) [Rest]\n",
    "48.0           [Rest] (-2 _) [Rest] (-2 2) [8]\n",
    "52.0             [Rest] (-2 2) [8] (5 -3) [10]\n",
    "56.0                 [8] (5 -3) [10] (_ 3) [8]\n",
    "64.0                 [10] (_ 3) [8] (2 -2) [6]\n",
    "70.0                 [8] (2 -2) [6] (_ -2) [5]\n",
    "72.0                 [6] (_ -2) [5] (-2 4) [3]\n",
    "76.0                 [5] (-2 4) [3] (_ -2) [6]\n",
    "80.0                [3] (_ -2) [6] (-2 -2) [6]\n",
    "84.0                [6] (-2 -2) [6] (_ -3) [5]\n",
    "88.0                  [6] (_ -3) [5] (_ 2) [3]\n",
    "90.0                  [5] (_ 2) [3] (-2 2) [5]\n",
    "94.0                 [3] (-2 2) [5] (_ -5) [6]\n",
    "96.0              [5] (_ -5) [6] (-3 Rest) [3]\n",
    "98.0         [6] (-3 Rest) [3] (3 Rest) [Rest]\n",
    "...                                        ...\n",
    "164.0            [3] (Rest 1) [Rest] (2 _) [6]\n",
    "168.0              [Rest] (2 _) [6] (-2 _) [5]\n",
    "170.0                 [6] (-2 _) [5] (_ 1) [5]\n",
    "174.0                 [5] (_ 1) [5] (-2 _) [6]\n",
    "176.0                [5] (-2 _) [6] (-2 _) [7]\n",
    "178.0              [6] (-2 _) [7] (Rest _) [8]\n",
    "179.0         [7] (Rest _) [8] (Rest 1) [Rest]\n",
    "180.0            [8] (Rest 1) [Rest] (4 _) [8]\n",
    "184.0               [Rest] (4 _) [8] (_ 1) [8]\n",
    "186.0                 [8] (_ 1) [8] (-2 _) [5]\n",
    "188.0                [8] (-2 _) [5] (_ -2) [5]\n",
    "190.0                 [5] (_ -2) [5] (2 _) [6]\n",
    "192.0                  [5] (2 _) [6] (3 _) [5]\n",
    "194.0                 [6] (3 _) [5] (-2 _) [3]\n",
    "196.0                 [5] (-2 _) [3] (3 2) [3]\n",
    "198.0                 [3] (3 2) [3] (-2 _) [1]\n",
    "200.0                 [3] (-2 _) [1] (_ 2) [2]\n",
    "202.0                  [1] (_ 2) [2] (2 _) [3]\n",
    "204.0                [2] (2 _) [3] (-3 -2) [3]\n",
    "206.0                [3] (-3 -2) [3] (4 _) [5]\n",
    "208.0                 [3] (4 _) [5] (-2 2) [1]\n",
    "210.0                 [5] (-2 2) [1] (_ 2) [2]\n",
    "214.0                  [1] (_ 2) [2] (2 _) [3]\n",
    "216.0                [2] (2 _) [3] (-4 -2) [3]\n",
    "218.0               [3] (-4 -2) [3] (-3 _) [6]\n",
    "220.0                [3] (-3 _) [6] (_ -2) [5]\n",
    "222.0                [6] (_ -2) [5] (2 -2) [6]\n",
    "224.0                 [5] (2 -2) [6] (2 _) [5]\n",
    "226.0                 [6] (2 _) [5] (-5 2) [3]\n",
    "228.0                 [5] (-5 2) [3] (_ _) [8]\n",
    "\n",
    "[88 rows x 1 columns]\n",
    "```"
   ]
  },
  {
   "cell_type": "markdown",
   "metadata": {},
   "source": [
    "Solving this issue requires to go into the source code of the ngram indexer of vis-framework and figure out why is it not computing the offsets correctly.\n",
    "\n",
    "Now into the analysis parameters."
   ]
  },
  {
   "cell_type": "markdown",
   "metadata": {},
   "source": [
    "## Debugging vis-framework"
   ]
  },
  {
   "cell_type": "markdown",
   "metadata": {},
   "source": [
    "After changing the time signature in one of the MusicXML files to corroborate it is parsed correctly by Music21, I could observe that the computed ngrams by vis-framework are still wrong, as shown in the previous section.\n",
    "\n",
    "However, the input dataframes for computing the ngrams (vertical and horizontal interval indexers) are accurate."
   ]
  },
  {
   "cell_type": "markdown",
   "metadata": {},
   "source": [
    "### Vertical intervals\n",
    "```python\n",
    "Indexer interval.IntervalIndexer\n",
    "Parts               Tenor,Bassus\n",
    "0.0                         Rest\n",
    "8.0                         Rest\n",
    "12.0                           8\n",
    "16.0                           8\n",
    "18.0                           8\n",
    "20.0                           5\n",
    "24.0                           5\n",
    "26.0                           5\n",
    "28.0                           6\n",
    "30.0                           5\n",
    "33.0                           4\n",
    "34.0                           3\n",
    "35.0                           2\n",
    "36.0                           3\n",
    "40.0                           1\n",
    "44.0                        Rest\n",
    "48.0                        Rest\n",
    "52.0                        Rest\n",
    "56.0                           8\n",
    "64.0                          10\n",
    "70.0                           8\n",
    "72.0                           6\n",
    "76.0                           5\n",
    "80.0                           3\n",
    "84.0                           6\n",
    "88.0                           6\n",
    "90.0                           5\n",
    "94.0                           3\n",
    "96.0                           5\n",
    "98.0                           6\n",
    "...                          ...\n",
    "170.0                          6\n",
    "174.0                          5\n",
    "176.0                          5\n",
    "178.0                          6\n",
    "179.0                          7\n",
    "180.0                          8\n",
    "184.0                       Rest\n",
    "186.0                          8\n",
    "188.0                          8\n",
    "190.0                          5\n",
    "192.0                          5\n",
    "194.0                          6\n",
    "196.0                          5\n",
    "198.0                          3\n",
    "200.0                          3\n",
    "202.0                          1\n",
    "204.0                          2\n",
    "206.0                          3\n",
    "208.0                          3\n",
    "210.0                          5\n",
    "214.0                          1\n",
    "216.0                          2\n",
    "218.0                          3\n",
    "220.0                          3\n",
    "222.0                          6\n",
    "224.0                          5\n",
    "226.0                          6\n",
    "228.0                          5\n",
    "230.0                          3\n",
    "232.0                          8\n",
    "\n",
    "[90 rows x 1 columns]\n",
    "```\n",
    "\n",
    "### Horizontal intervals\n",
    "```python\n",
    "      interval.HorizontalIntervalIndexer\n",
    "                                   Tenor Bassus\n",
    "0.0                                    1   Rest\n",
    "8.0                                    4   Rest\n",
    "12.0                                   1      1\n",
    "16.0                                 NaN      4\n",
    "18.0                                   1    NaN\n",
    "20.0                                   1      1\n",
    "24.0                                   2    NaN\n",
    "26.0                                 NaN      1\n",
    "28.0                                  -2      1\n",
    "30.0                                  -2    NaN\n",
    "33.0                                  -2    NaN\n",
    "34.0                                  -2    NaN\n",
    "35.0                                   2    NaN\n",
    "36.0                                  -2      2\n",
    "40.0                                Rest     -2\n",
    "44.0                                Rest    NaN\n",
    "48.0                                Rest     -2\n",
    "52.0                                 NaN     -2\n",
    "56.0                                   2     -2\n",
    "64.0                                  -3      5\n",
    "70.0                                   3    NaN\n",
    "72.0                                  -2      2\n",
    "76.0                                  -2    NaN\n",
    "80.0                                   4     -2\n",
    "84.0                                  -2    NaN\n",
    "88.0                                  -2     -2\n",
    "90.0                                  -3    NaN\n",
    "94.0                                   2    NaN\n",
    "96.0                                   2     -2\n",
    "98.0                                  -5    NaN\n",
    "...                                  ...    ...\n",
    "168.0                                  1   Rest\n",
    "170.0                                NaN      2\n",
    "174.0                                NaN     -2\n",
    "176.0                                  1    NaN\n",
    "178.0                                NaN     -2\n",
    "179.0                                NaN     -2\n",
    "180.0                                NaN   Rest\n",
    "184.0                                  1   Rest\n",
    "186.0                                NaN      4\n",
    "188.0                                  1    NaN\n",
    "190.0                                NaN     -2\n",
    "192.0                                 -2    NaN\n",
    "194.0                                NaN      2\n",
    "196.0                                NaN      3\n",
    "198.0                                NaN     -2\n",
    "200.0                                  2      3\n",
    "202.0                                NaN     -2\n",
    "204.0                                  2    NaN\n",
    "206.0                                NaN      2\n",
    "208.0                                 -2     -3\n",
    "210.0                                NaN      4\n",
    "214.0                                  2     -2\n",
    "216.0                                  2    NaN\n",
    "218.0                                NaN      2\n",
    "220.0                                 -2     -4\n",
    "222.0                                NaN     -3\n",
    "224.0                                 -2    NaN\n",
    "226.0                                 -2      2\n",
    "228.0                                NaN      2\n",
    "230.0                                  2     -5\n",
    "\n",
    "[89 rows x 2 columns]\n",
    "```"
   ]
  },
  {
   "cell_type": "markdown",
   "metadata": {},
   "source": [
    "The error is due to a mismatch in the way horizontal intervals are computed whether the user asks for __diatonic__, __chromatic__ or __diatonic plus quality__.\n",
    "\n",
    "Only **diatonic plus quality** produces a correct ngram. That is the default version of the ngrams computed in vis-framework's documentation, which explains why usually when testing the ngram indexer it outputs good results. If one reviews the output of the horizontal interval indexer itself using __diatonic plus quality__, it is possible to see there is a mismatch against the offsets computed for __chromatic__ or __diatonic__ horizontal intervals.\n",
    "\n",
    "There are two places in the code that need to be corrected\n",
    "1. The interval indexer, computing horizontal intervals with different __quality__ settings.\n",
    "2. The ngram indexer, matching the offsets of the horizontal intervals against the vertical intervals."
   ]
  },
  {
   "cell_type": "markdown",
   "metadata": {},
   "source": [
    "### Found and fixed the bug\n",
    "February 16, 2018"
   ]
  },
  {
   "cell_type": "markdown",
   "metadata": {},
   "source": [
    "* Fixing related bugs of incorrect ngram computations with horizontal intervals' ```quality``` != ```diatonic with quality``` \n",
    "    * The ngrams are mistaken in every other case because 'diatonic with quality' defaults to ```horiz_attach_later``` = True and all other qualities do not\n",
    "    * The ngram indexer is assuming a horizontal interval dataframe where the intervals correspond to the interval arriving at the offset and not starting from the offset\n",
    "    * The default configuration for ```horiz_attach_later``` is contradictory with the documentation of vis\n",
    "        * The documentation says ```horiz_attach_later``` = False, by default\n",
    "        * In reality (the code), it is the other way around, ```horiz_attach_later``` = True\n",
    "    * Since the ngram works with ```horiz_attach_later```, this should be the default option and there should be an option for ```horiz_attach_before```, in case the user wants to compute that\n",
    "        * That implementation is friendly to the way vis is implemented and required only a few lines of code to invert the logic of control structures\n",
    "    * Therefore, renaming setting ```horiz_attach_later``` to its inverse, ```horiz_attach_before```\n",
    "        * Making this setting False by default\n",
    "        * This way, if the user is intending to produce ngrams, it can neglect this setting from the horizontal intervals and all the horizontal ```quality``` settings will work by default"
   ]
  },
  {
   "cell_type": "markdown",
   "metadata": {},
   "source": [
    "## vis-framework 3.1.1 "
   ]
  },
  {
   "cell_type": "markdown",
   "metadata": {},
   "source": [
    "As the result of fixing this issue, there is a new vis-framework version, 3.1.1"
   ]
  },
  {
   "cell_type": "markdown",
   "metadata": {},
   "source": [
    "## Analysis"
   ]
  },
  {
   "cell_type": "markdown",
   "metadata": {},
   "source": [
    "The general parameters of the ngram computation are the following:\n",
    "\n",
    "1. Only diatonic intervals (for both harmonic and melodic intervals)\n",
    "2. Held notes are treated as repeated notes\n",
    "3. Finding all Ngrams in the score, for N=3\n",
    "4. Always compound intervals\n",
    "\n",
    "Julie proposed two sets of “dynamic” settings, which make four different combinations of *valid* settings to output in different analysis versions:\n",
    "\n",
    "1. Half note slices, ignoring rests in one voice\n",
    "2. Only attacks, ignoring rests in one voice\n",
    "3. Half note slices, marking rests in one voice as ngrams\n",
    "4. Only attacks, marking rests in one voice as ngrams\n"
   ]
  },
  {
   "cell_type": "markdown",
   "metadata": {},
   "source": [
    "### Pre-processing of the data"
   ]
  },
  {
   "cell_type": "markdown",
   "metadata": {},
   "source": [
    "Some of the parameters suggested for this analysis are incompatible to the way vis-framework performs its analyses in the different indexers. Therefore, the easiest strategy that I found to comply with the parameters is to pre-process some of the data using pandas and make use of undocumented attributes of vis to \"trick\" it into believing those are the original analyses performed by its own indexers. \n",
    "\n",
    "This is possible by creating `deepcopy` replicas of a valid `IndexedPiece` object and appending modified dataframes to its dictionary of analyses. Since all of the indexers in vis-framework are `callbacks`, this was the easiest way to make use of vis' ngram indexer, making it believe it is being called from its own `get_data()` function.\n",
    "\n",
    "Here is the basic logic to generate the deepcopies with the different configuration parameters:"
   ]
  },
  {
   "cell_type": "markdown",
   "metadata": {},
   "source": [
    "```python\n",
    "# Original IndexedPiece\n",
    "s.get_data('noterest')\n",
    "\n",
    "# Half note slices, ignoring rests in one voice\n",
    "hn = copy.deepcopy(s)\n",
    "hnnr = hn.get_data('noterest')\n",
    "hnnr = halfNoteSlices(hnnr)\n",
    "hnnr = ignoreRests(hnnr)\n",
    "hn._analyses['noterest'] = hnnr\n",
    "\n",
    "# Attacks only, ignoring rests in one voice\n",
    "an = copy.deepcopy(s)\n",
    "annr = an.get_data('noterest')\n",
    "annr = heldAsRepeated(annr)\n",
    "annr = ignoreRests(annr)\n",
    "an._analyses['noterest'] = annr\n",
    "\n",
    "# Half note slices, marking rests in one voice as ngrams\n",
    "hr = copy.deepcopy(s)\n",
    "hrnr = hr.get_data('noterest')\n",
    "hrnr = halfNoteSlices(hrnr)\n",
    "hr._analyses['noterest'] = hrnr\n",
    "\n",
    "# Attacks only, marking rests in one voice as ngrams\n",
    "ar = copy.deepcopy(s)\n",
    "arnr = ar.get_data('noterest')\n",
    "arnr = heldAsRepeated(arnr)\n",
    "ar._analyses['noterest'] = arnr\n",
    "```"
   ]
  },
  {
   "cell_type": "markdown",
   "metadata": {},
   "source": [
    "After having the modified copies of the `noterest` indexer analysis, the rest of the procedure for getting the `horizontal intervals`, `vertical intervals`, and `ngrams` is the same, and it is as shown in the documentation of vis-framework"
   ]
  },
  {
   "cell_type": "markdown",
   "metadata": {},
   "source": [
    "## Sample analysis"
   ]
  },
  {
   "cell_type": "markdown",
   "metadata": {},
   "source": [
    "Now, I am going to show the output of the analysis of the following excerpt:"
   ]
  },
  {
   "cell_type": "markdown",
   "metadata": {},
   "source": [
    "<img src='sample_analysis.png'>"
   ]
  },
  {
   "cell_type": "markdown",
   "metadata": {},
   "source": [
    "This excerpt is identical to the first \"six measures\" of `Credo Vilayge I Et in Spiritum`, which is attributed to Josquin, with the following exception"
   ]
  },
  {
   "cell_type": "markdown",
   "metadata": {},
   "source": [
    "<img src=\"cornercase.png\">"
   ]
  },
  {
   "cell_type": "markdown",
   "metadata": {},
   "source": [
    "The original \"La\" in the tenor lasts for the equivalent of a half note, not a dotted half note. I made this change because it brought interesting cornercases for the analysis that helped in making a more robust analysis."
   ]
  },
  {
   "cell_type": "markdown",
   "metadata": {},
   "source": [
    "### Half note slices, ignoring rests in one voice"
   ]
  },
  {
   "cell_type": "markdown",
   "metadata": {},
   "source": [
    "```python\n",
    "Indexer          ngram.NGramIndexer\n",
    "Parts   Tenor,Bassus : Bassus Tenor\n",
    "12.0        [8] (1 1) [8] (1 1) [8]\n",
    "14.0        [8] (1 1) [8] (1 1) [8]\n",
    "16.0        [8] (1 1) [8] (4 1) [5]\n",
    "18.0        [8] (4 1) [5] (1 1) [5]\n",
    "20.0        [5] (1 1) [5] (1 1) [5]\n",
    "22.0        [5] (1 1) [5] (1 1) [5]\n",
    "24.0        [5] (1 1) [5] (1 2) [6]\n",
    "26.0        [5] (1 2) [6] (1 1) [6]\n",
    "28.0       [6] (1 1) [6] (1 -2) [5]\n",
    "30.0      [6] (1 -2) [5] (1 -3) [3]\n",
    "32.0       [5] (1 -3) [3] (1 1) [3]\n",
    "34.0        [3] (1 1) [3] (1 1) [3]\n",
    "36.0       [3] (1 1) [3] (2 -2) [1]\n",
    "38.0       [3] (2 -2) [1] (1 1) [1]\n",
    "```"
   ]
  },
  {
   "cell_type": "markdown",
   "metadata": {},
   "source": [
    "### Attacks only, ignoring rests in one voice"
   ]
  },
  {
   "cell_type": "markdown",
   "metadata": {},
   "source": [
    "```python\n",
    "Indexer          ngram.NGramIndexer\n",
    "Parts   Tenor,Bassus : Bassus Tenor\n",
    "12.0        [8] (1 1) [8] (1 1) [8]\n",
    "16.0        [8] (1 1) [8] (4 1) [5]\n",
    "18.0        [8] (4 1) [5] (1 1) [5]\n",
    "20.0        [5] (1 1) [5] (1 1) [5]\n",
    "24.0        [5] (1 1) [5] (1 2) [6]\n",
    "26.0       [5] (1 2) [6] (1 -2) [5]\n",
    "28.0      [6] (1 -2) [5] (1 -2) [4]\n",
    "31.0      [5] (1 -2) [4] (1 -2) [3]\n",
    "33.0      [4] (1 -2) [3] (1 -2) [2]\n",
    "34.0       [3] (1 -2) [2] (1 2) [3]\n",
    "35.0       [2] (1 2) [3] (2 -2) [1]\n",
    "```"
   ]
  },
  {
   "cell_type": "markdown",
   "metadata": {},
   "source": [
    "### Half note slices, marking rests in one voice as ngrams"
   ]
  },
  {
   "cell_type": "markdown",
   "metadata": {},
   "source": [
    "```python\n",
    "Indexer                      ngram.NGramIndexer\n",
    "Parts               Tenor,Bassus : Bassus Tenor\n",
    "0.0      [Rest] (Rest 1) [Rest] (Rest 1) [Rest]\n",
    "2.0      [Rest] (Rest 1) [Rest] (Rest 1) [Rest]\n",
    "4.0      [Rest] (Rest 1) [Rest] (Rest 1) [Rest]\n",
    "6.0      [Rest] (Rest 1) [Rest] (Rest 1) [Rest]\n",
    "8.0         [Rest] (Rest 1) [Rest] (Rest 4) [8]\n",
    "10.0              [Rest] (Rest 4) [8] (1 1) [8]\n",
    "12.0                    [8] (1 1) [8] (1 1) [8]\n",
    "14.0                    [8] (1 1) [8] (1 1) [8]\n",
    "16.0                    [8] (1 1) [8] (4 1) [5]\n",
    "18.0                    [8] (4 1) [5] (1 1) [5]\n",
    "20.0                    [5] (1 1) [5] (1 1) [5]\n",
    "22.0                    [5] (1 1) [5] (1 1) [5]\n",
    "24.0                    [5] (1 1) [5] (1 2) [6]\n",
    "26.0                    [5] (1 2) [6] (1 1) [6]\n",
    "28.0                   [6] (1 1) [6] (1 -2) [5]\n",
    "30.0                  [6] (1 -2) [5] (1 -3) [3]\n",
    "32.0                   [5] (1 -3) [3] (1 1) [3]\n",
    "34.0                    [3] (1 1) [3] (1 1) [3]\n",
    "36.0                   [3] (1 1) [3] (2 -2) [1]\n",
    "38.0                   [3] (2 -2) [1] (1 1) [1]\n",
    "40.0              [1] (1 1) [1] (1 Rest) [Rest]\n",
    "```"
   ]
  },
  {
   "cell_type": "markdown",
   "metadata": {},
   "source": [
    "### Attacks only, marking rests in one voice as ngrams"
   ]
  },
  {
   "cell_type": "markdown",
   "metadata": {},
   "source": [
    "```python\n",
    "Indexer                   ngram.NGramIndexer\n",
    "Parts            Tenor,Bassus : Bassus Tenor\n",
    "0.0      [Rest] (Rest 1) [Rest] (Rest 4) [8]\n",
    "8.0            [Rest] (Rest 4) [8] (1 1) [8]\n",
    "12.0                 [8] (1 1) [8] (1 1) [8]\n",
    "16.0                 [8] (1 1) [8] (4 1) [5]\n",
    "18.0                 [8] (4 1) [5] (1 1) [5]\n",
    "20.0                 [5] (1 1) [5] (1 1) [5]\n",
    "24.0                 [5] (1 1) [5] (1 2) [6]\n",
    "26.0                [5] (1 2) [6] (1 -2) [5]\n",
    "28.0               [6] (1 -2) [5] (1 -2) [4]\n",
    "31.0               [5] (1 -2) [4] (1 -2) [3]\n",
    "33.0               [4] (1 -2) [3] (1 -2) [2]\n",
    "34.0                [3] (1 -2) [2] (1 2) [3]\n",
    "35.0                [2] (1 2) [3] (2 -2) [1]\n",
    "36.0          [3] (2 -2) [1] (1 Rest) [Rest]\n",
    "```"
   ]
  }
 ],
 "metadata": {
  "kernelspec": {
   "display_name": "Python 3",
   "language": "python",
   "name": "python3"
  },
  "language_info": {
   "codemirror_mode": {
    "name": "ipython",
    "version": 3
   },
   "file_extension": ".py",
   "mimetype": "text/x-python",
   "name": "python",
   "nbconvert_exporter": "python",
   "pygments_lexer": "ipython3",
   "version": "3.6.2"
  }
 },
 "nbformat": 4,
 "nbformat_minor": 2
}
